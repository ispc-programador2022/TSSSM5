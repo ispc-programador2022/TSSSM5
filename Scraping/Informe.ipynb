{
 "cells": [
  {
   "cell_type": "markdown",
   "metadata": {},
   "source": [
    "# Análisis de los procesos migratorios 2000 - 2019\n",
    "\n",
    "### PROYECTO TECNOLÓGICO INTEGRADOR ISPC\n",
    "\n",
    "Integrantes:\n",
    "\n",
    "* Joaquín Torres\n",
    "* Leonardo Mansilla\n",
    "* Daiana Senese\n",
    "\n",
    "#### Fuente: https://datosmacro.expansion.com/demografia/migracion/inmigracion?anio=2017\n",
    "\n",
    "##### La inmigración se define como el cambio de residencia habitual de una persona de un territorio (país) a otro por un periodo que se espera sea al menos de 12 meses. Así pues, cuando hablamos de inmigración e inmigrantes, nos referimos a las personas que entran en un país y nacieron o proceden de otro."
   ]
  },
  {
   "cell_type": "code",
   "execution_count": 62,
   "metadata": {},
   "outputs": [],
   "source": [
    "# se importan las librerias necesarias \n",
    "\n",
    "import pandas as pd\n",
    "import numpy as np\n",
    "\n",
    "import matplotlib.pyplot as plt\n",
    "import seaborn as sns\n",
    "import matplotlib as mpl\n",
    "\n",
    "mpl.style.use('bmh')"
   ]
  },
  {
   "cell_type": "code",
   "execution_count": 63,
   "metadata": {},
   "outputs": [],
   "source": [
    "df_complete = pd.read_csv(r'/scraping_proyecto_integrador/TSSSM5/csv_2000_to_2019.csv')"
   ]
  },
  {
   "cell_type": "markdown",
   "metadata": {},
   "source": [
    "## Se realizan distintas operaciones para visualizar la composición del dataframe"
   ]
  },
  {
   "cell_type": "code",
   "execution_count": 64,
   "metadata": {},
   "outputs": [
    {
     "data": {
      "text/plain": [
       "(1168, 8)"
      ]
     },
     "execution_count": 64,
     "metadata": {},
     "output_type": "execute_result"
    }
   ],
   "source": [
    "df_complete.shape"
   ]
  },
  {
   "cell_type": "code",
   "execution_count": 66,
   "metadata": {},
   "outputs": [
    {
     "data": {
      "text/html": [
       "<div>\n",
       "<style scoped>\n",
       "    .dataframe tbody tr th:only-of-type {\n",
       "        vertical-align: middle;\n",
       "    }\n",
       "\n",
       "    .dataframe tbody tr th {\n",
       "        vertical-align: top;\n",
       "    }\n",
       "\n",
       "    .dataframe thead th {\n",
       "        text-align: right;\n",
       "    }\n",
       "</style>\n",
       "<table border=\"1\" class=\"dataframe\">\n",
       "  <thead>\n",
       "    <tr style=\"text-align: right;\">\n",
       "      <th></th>\n",
       "      <th>Unnamed: 0</th>\n",
       "      <th>Países</th>\n",
       "      <th>Inmigrantes hombres</th>\n",
       "      <th>Inmigrantes mujeres</th>\n",
       "      <th>Inmigrantes</th>\n",
       "      <th>% Inmigrantes</th>\n",
       "      <th>Var.</th>\n",
       "      <th>year</th>\n",
       "    </tr>\n",
       "  </thead>\n",
       "  <tbody>\n",
       "    <tr>\n",
       "      <th>0</th>\n",
       "      <td>0</td>\n",
       "      <td>España</td>\n",
       "      <td>838.058</td>\n",
       "      <td>819.227</td>\n",
       "      <td>1.657.285</td>\n",
       "      <td>4,08%</td>\n",
       "      <td>1,52</td>\n",
       "      <td>2000</td>\n",
       "    </tr>\n",
       "    <tr>\n",
       "      <th>1</th>\n",
       "      <td>1</td>\n",
       "      <td>Alemania</td>\n",
       "      <td>4.503.666</td>\n",
       "      <td>4.488.965</td>\n",
       "      <td>8.992.631</td>\n",
       "      <td>10,93%</td>\n",
       "      <td>1,81</td>\n",
       "      <td>2000</td>\n",
       "    </tr>\n",
       "    <tr>\n",
       "      <th>2</th>\n",
       "      <td>2</td>\n",
       "      <td>Reino Unido</td>\n",
       "      <td>2.228.628</td>\n",
       "      <td>2.501.537</td>\n",
       "      <td>4.730.165</td>\n",
       "      <td>8,02%</td>\n",
       "      <td>0,87</td>\n",
       "      <td>2000</td>\n",
       "    </tr>\n",
       "  </tbody>\n",
       "</table>\n",
       "</div>"
      ],
      "text/plain": [
       "   Unnamed: 0       Países Inmigrantes hombres Inmigrantes mujeres  \\\n",
       "0           0       España             838.058             819.227   \n",
       "1           1     Alemania           4.503.666           4.488.965   \n",
       "2           2  Reino Unido           2.228.628           2.501.537   \n",
       "\n",
       "  Inmigrantes % Inmigrantes  Var.  year  \n",
       "0   1.657.285         4,08%  1,52  2000  \n",
       "1   8.992.631        10,93%  1,81  2000  \n",
       "2   4.730.165         8,02%  0,87  2000  "
      ]
     },
     "execution_count": 66,
     "metadata": {},
     "output_type": "execute_result"
    }
   ],
   "source": [
    "df_complete.head(3)"
   ]
  },
  {
   "cell_type": "code",
   "execution_count": 67,
   "metadata": {},
   "outputs": [
    {
     "data": {
      "text/plain": [
       "Index(['Unnamed: 0', 'Países', 'Inmigrantes hombres', 'Inmigrantes mujeres',\n",
       "       'Inmigrantes', '% Inmigrantes', 'Var.', 'year'],\n",
       "      dtype='object')"
      ]
     },
     "execution_count": 67,
     "metadata": {},
     "output_type": "execute_result"
    }
   ],
   "source": [
    "df_complete.columns"
   ]
  },
  {
   "cell_type": "code",
   "execution_count": 68,
   "metadata": {},
   "outputs": [
    {
     "name": "stdout",
     "output_type": "stream",
     "text": [
      "<class 'pandas.core.frame.DataFrame'>\n",
      "RangeIndex: 1168 entries, 0 to 1167\n",
      "Data columns (total 8 columns):\n",
      " #   Column               Non-Null Count  Dtype \n",
      "---  ------               --------------  ----- \n",
      " 0   Unnamed: 0           1168 non-null   int64 \n",
      " 1   Países               1168 non-null   object\n",
      " 2   Inmigrantes hombres  1168 non-null   object\n",
      " 3   Inmigrantes mujeres  1168 non-null   object\n",
      " 4   Inmigrantes          1168 non-null   object\n",
      " 5   % Inmigrantes        1168 non-null   object\n",
      " 6   Var.                 1167 non-null   object\n",
      " 7   year                 1168 non-null   int64 \n",
      "dtypes: int64(2), object(6)\n",
      "memory usage: 73.1+ KB\n"
     ]
    }
   ],
   "source": [
    "df_complete.info()"
   ]
  },
  {
   "cell_type": "markdown",
   "metadata": {},
   "source": [
    "### Se realizan procedimientos para modificar el tipo de datos que contiene el data frame."
   ]
  },
  {
   "cell_type": "code",
   "execution_count": 69,
   "metadata": {},
   "outputs": [],
   "source": [
    "Inmigrants_total = []\n",
    "for h in range(len(df_complete[\"Inmigrantes\"])):\n",
    "    Inmigrants_total.append(int(df_complete[\"Inmigrantes\"][h].replace('.', '')))\n",
    "\n",
    "\n",
    "Inmigrants_m_total = []\n",
    "for h in range(len(df_complete[\"Inmigrantes mujeres\"])):\n",
    "    Inmigrants_m_total.append(int(df_complete[\"Inmigrantes mujeres\"][h].replace('.', '')))\n",
    "\n",
    "Inmigrants_h_total = []\n",
    "for h in range(len(df_complete[\"Inmigrantes hombres\"])):\n",
    "    Inmigrants_h_total.append(int(df_complete[\"Inmigrantes hombres\"][h].replace('.', '')))\n",
    "\n",
    "\n",
    "df_complete[\"Inmigrantes_total\"] = Inmigrants_total\n",
    "df_complete[\"Inmigrantes_hombres\"] = Inmigrants_m_total\n",
    "df_complete[\"Inmigrantes_mujeres\"] = Inmigrants_h_total\n",
    "\n",
    "df_complete = df_complete.drop(['Inmigrantes hombres','Inmigrantes mujeres', 'Inmigrantes'], axis=1)\n"
   ]
  },
  {
   "cell_type": "code",
   "execution_count": 70,
   "metadata": {},
   "outputs": [
    {
     "data": {
      "text/html": [
       "<div>\n",
       "<style scoped>\n",
       "    .dataframe tbody tr th:only-of-type {\n",
       "        vertical-align: middle;\n",
       "    }\n",
       "\n",
       "    .dataframe tbody tr th {\n",
       "        vertical-align: top;\n",
       "    }\n",
       "\n",
       "    .dataframe thead th {\n",
       "        text-align: right;\n",
       "    }\n",
       "</style>\n",
       "<table border=\"1\" class=\"dataframe\">\n",
       "  <thead>\n",
       "    <tr style=\"text-align: right;\">\n",
       "      <th></th>\n",
       "      <th>Unnamed: 0</th>\n",
       "      <th>Países</th>\n",
       "      <th>% Inmigrantes</th>\n",
       "      <th>Var.</th>\n",
       "      <th>year</th>\n",
       "      <th>Inmigrantes_total</th>\n",
       "      <th>Inmigrantes_hombres</th>\n",
       "      <th>Inmigrantes_mujeres</th>\n",
       "    </tr>\n",
       "  </thead>\n",
       "  <tbody>\n",
       "    <tr>\n",
       "      <th>0</th>\n",
       "      <td>0</td>\n",
       "      <td>España</td>\n",
       "      <td>4,08%</td>\n",
       "      <td>1,52</td>\n",
       "      <td>2000</td>\n",
       "      <td>1657285</td>\n",
       "      <td>819227</td>\n",
       "      <td>838058</td>\n",
       "    </tr>\n",
       "    <tr>\n",
       "      <th>1</th>\n",
       "      <td>1</td>\n",
       "      <td>Alemania</td>\n",
       "      <td>10,93%</td>\n",
       "      <td>1,81</td>\n",
       "      <td>2000</td>\n",
       "      <td>8992631</td>\n",
       "      <td>4488965</td>\n",
       "      <td>4503666</td>\n",
       "    </tr>\n",
       "    <tr>\n",
       "      <th>2</th>\n",
       "      <td>2</td>\n",
       "      <td>Reino Unido</td>\n",
       "      <td>8,02%</td>\n",
       "      <td>0,87</td>\n",
       "      <td>2000</td>\n",
       "      <td>4730165</td>\n",
       "      <td>2501537</td>\n",
       "      <td>2228628</td>\n",
       "    </tr>\n",
       "    <tr>\n",
       "      <th>3</th>\n",
       "      <td>3</td>\n",
       "      <td>Francia</td>\n",
       "      <td>10,30%</td>\n",
       "      <td>0,07</td>\n",
       "      <td>2000</td>\n",
       "      <td>6278718</td>\n",
       "      <td>3185929</td>\n",
       "      <td>3092789</td>\n",
       "    </tr>\n",
       "    <tr>\n",
       "      <th>4</th>\n",
       "      <td>4</td>\n",
       "      <td>Italia</td>\n",
       "      <td>3,72%</td>\n",
       "      <td>0,60</td>\n",
       "      <td>2000</td>\n",
       "      <td>2121688</td>\n",
       "      <td>1144997</td>\n",
       "      <td>976691</td>\n",
       "    </tr>\n",
       "    <tr>\n",
       "      <th>5</th>\n",
       "      <td>5</td>\n",
       "      <td>Portugal</td>\n",
       "      <td>6,31%</td>\n",
       "      <td>1,00</td>\n",
       "      <td>2000</td>\n",
       "      <td>651472</td>\n",
       "      <td>331153</td>\n",
       "      <td>320319</td>\n",
       "    </tr>\n",
       "    <tr>\n",
       "      <th>6</th>\n",
       "      <td>6</td>\n",
       "      <td>Estados Unidos</td>\n",
       "      <td>12,34%</td>\n",
       "      <td>1,66</td>\n",
       "      <td>2000</td>\n",
       "      <td>34814053</td>\n",
       "      <td>17503268</td>\n",
       "      <td>17310785</td>\n",
       "    </tr>\n",
       "    <tr>\n",
       "      <th>7</th>\n",
       "      <td>7</td>\n",
       "      <td>Japón</td>\n",
       "      <td>1,33%</td>\n",
       "      <td>0,24</td>\n",
       "      <td>2000</td>\n",
       "      <td>1686444</td>\n",
       "      <td>889516</td>\n",
       "      <td>796928</td>\n",
       "    </tr>\n",
       "    <tr>\n",
       "      <th>8</th>\n",
       "      <td>8</td>\n",
       "      <td>China</td>\n",
       "      <td>0,04%</td>\n",
       "      <td>0</td>\n",
       "      <td>2000</td>\n",
       "      <td>508034</td>\n",
       "      <td>253952</td>\n",
       "      <td>254082</td>\n",
       "    </tr>\n",
       "    <tr>\n",
       "      <th>9</th>\n",
       "      <td>9</td>\n",
       "      <td>Andorra</td>\n",
       "      <td>64,01%</td>\n",
       "      <td>-5,21</td>\n",
       "      <td>2000</td>\n",
       "      <td>42147</td>\n",
       "      <td>20054</td>\n",
       "      <td>22093</td>\n",
       "    </tr>\n",
       "  </tbody>\n",
       "</table>\n",
       "</div>"
      ],
      "text/plain": [
       "   Unnamed: 0          Países % Inmigrantes   Var.  year  Inmigrantes_total  \\\n",
       "0           0          España         4,08%   1,52  2000            1657285   \n",
       "1           1        Alemania        10,93%   1,81  2000            8992631   \n",
       "2           2     Reino Unido         8,02%   0,87  2000            4730165   \n",
       "3           3         Francia        10,30%   0,07  2000            6278718   \n",
       "4           4          Italia         3,72%   0,60  2000            2121688   \n",
       "5           5        Portugal         6,31%   1,00  2000             651472   \n",
       "6           6  Estados Unidos        12,34%   1,66  2000           34814053   \n",
       "7           7           Japón         1,33%   0,24  2000            1686444   \n",
       "8           8           China         0,04%      0  2000             508034   \n",
       "9           9         Andorra        64,01%  -5,21  2000              42147   \n",
       "\n",
       "   Inmigrantes_hombres  Inmigrantes_mujeres  \n",
       "0               819227               838058  \n",
       "1              4488965              4503666  \n",
       "2              2501537              2228628  \n",
       "3              3185929              3092789  \n",
       "4              1144997               976691  \n",
       "5               331153               320319  \n",
       "6             17503268             17310785  \n",
       "7               889516               796928  \n",
       "8               253952               254082  \n",
       "9                20054                22093  "
      ]
     },
     "execution_count": 70,
     "metadata": {},
     "output_type": "execute_result"
    }
   ],
   "source": [
    "## Mostramos la estructura de la tabla\n",
    "df_complete.head(10)"
   ]
  },
  {
   "cell_type": "markdown",
   "metadata": {},
   "source": [
    "### Serie de tiempo: total de inmigrantes por año. "
   ]
  },
  {
   "cell_type": "code",
   "execution_count": 91,
   "metadata": {},
   "outputs": [],
   "source": [
    "cant_year = df_complete.groupby([\"year\"]).sum('Inmigrantes_total')"
   ]
  },
  {
   "cell_type": "code",
   "execution_count": 92,
   "metadata": {},
   "outputs": [
    {
     "data": {
      "text/plain": [
       "<matplotlib.legend.Legend at 0x1d01fbc8760>"
      ]
     },
     "execution_count": 92,
     "metadata": {},
     "output_type": "execute_result"
    },
    {
     "data": {
      "image/png": "[encoded data removed]",
      "text/plain": [
       "<Figure size 1152x432 with 1 Axes>"
      ]
     },
     "metadata": {
      "needs_background": "light"
     },
     "output_type": "display_data"
    }
   ],
   "source": [
    "year_index = cant_year.index\n",
    "\n",
    "fig, ax = plt.subplots(figsize=(16,6))\n",
    "ax.plot(year_index, cant_year[\"Inmigrantes_total\"], label='Inmigraciones')\n",
    "ax.set_xlabel('Año')                  \n",
    "ax.set_ylabel('Cantidad')\n",
    "ax.set_title('Evolución de las inmigraciones 2000 - 2019')\n",
    "ax.legend() "
   ]
  },
  {
   "cell_type": "markdown",
   "metadata": {},
   "source": [
    "## Nos enfocamos en el año 2019"
   ]
  },
  {
   "cell_type": "code",
   "execution_count": 93,
   "metadata": {},
   "outputs": [],
   "source": [
    "## Se crea un dataframe con los registros pertenecientes al año 2019\n",
    "df_2019 = df_complete[df_complete['year'] == 2019]\n"
   ]
  },
  {
   "cell_type": "markdown",
   "metadata": {},
   "source": [
    "### Generamos un gráfico que muetre los 10 paises con mas inmigración en el año 2019."
   ]
  },
  {
   "cell_type": "code",
   "execution_count": 94,
   "metadata": {},
   "outputs": [
    {
     "data": {
      "text/plain": [
       "Text(0.5, 0, 'Total en millones')"
      ]
     },
     "execution_count": 94,
     "metadata": {},
     "output_type": "execute_result"
    },
    {
     "data": {
      "image/png": "[encoded data removed]",
      "text/plain": [
       "<Figure size 1152x432 with 1 Axes>"
      ]
     },
     "metadata": {
      "needs_background": "light"
     },
     "output_type": "display_data"
    }
   ],
   "source": [
    "\n",
    "df_2019 = df_2019.sort_values(by=['Inmigrantes_total'], ascending=False)\n",
    "top_10_df_2019 = df_2019.head(10)\n",
    "\n",
    "fig, ax = plt.subplots(figsize=(16,6))\n",
    "ax.barh(top_10_df_2019['Países'], top_10_df_2019['Inmigrantes_total'])\n",
    "ax.set_title('Top 10 total de Inmigraciones por país. Año 2019')\n",
    "ax.set_ylabel('Países')\n",
    "ax.set_xlabel('Total en millones')"
   ]
  }
 ],
 "metadata": {
  "kernelspec": {
   "display_name": "Python 3.10.8 64-bit (microsoft store)",
   "language": "python",
   "name": "python3"
  },
  "language_info": {
   "codemirror_mode": {
    "name": "ipython",
    "version": 3
   },
   "file_extension": ".py",
   "mimetype": "text/x-python",
   "name": "python",
   "nbconvert_exporter": "python",
   "pygments_lexer": "ipython3",
   "version": "3.10.8"
  },
  "orig_nbformat": 4,
  "vscode": {
   "interpreter": {
    "hash": "9282e8dcd7771560fa833cba90d3d44e24d4d42a24c6b720993a58382a7670e2"
   }
  }
 },
 "nbformat": 4,
 "nbformat_minor": 2
}
