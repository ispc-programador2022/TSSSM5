{
 "cells": [
  {
   "cell_type": "code",
   "execution_count": null,
   "metadata": {},
   "outputs": [],
   "source": [
    "%run -i Scraping.py"
   ]
  },
  {
   "cell_type": "code",
   "execution_count": 8,
   "metadata": {},
   "outputs": [
    {
     "data": {
      "text/html": [
       "<div>\n",
       "<style scoped>\n",
       "    .dataframe tbody tr th:only-of-type {\n",
       "        vertical-align: middle;\n",
       "    }\n",
       "\n",
       "    .dataframe tbody tr th {\n",
       "        vertical-align: top;\n",
       "    }\n",
       "\n",
       "    .dataframe thead th {\n",
       "        text-align: right;\n",
       "    }\n",
       "</style>\n",
       "<table border=\"1\" class=\"dataframe\">\n",
       "  <thead>\n",
       "    <tr style=\"text-align: right;\">\n",
       "      <th></th>\n",
       "      <th>Países</th>\n",
       "      <th>Inmigrantes hombres</th>\n",
       "      <th>Inmigrantes mujeres</th>\n",
       "      <th>Inmigrantes</th>\n",
       "      <th>% Inmigrantes</th>\n",
       "      <th>Var.</th>\n",
       "    </tr>\n",
       "  </thead>\n",
       "  <tbody>\n",
       "    <tr>\n",
       "      <th>0</th>\n",
       "      <td>España</td>\n",
       "      <td>2.884.000</td>\n",
       "      <td>3.007.208</td>\n",
       "      <td>5.891.208</td>\n",
       "      <td>12,69%</td>\n",
       "      <td>-0,77</td>\n",
       "    </tr>\n",
       "    <tr>\n",
       "      <th>1</th>\n",
       "      <td>Alemania</td>\n",
       "      <td>5.037.961</td>\n",
       "      <td>5.182.457</td>\n",
       "      <td>10.220.418</td>\n",
       "      <td>12,44%</td>\n",
       "      <td>0,21</td>\n",
       "    </tr>\n",
       "    <tr>\n",
       "      <th>2</th>\n",
       "      <td>Reino Unido</td>\n",
       "      <td>4.023.771</td>\n",
       "      <td>4.387.798</td>\n",
       "      <td>8.411.569</td>\n",
       "      <td>12,87%</td>\n",
       "      <td>1,57</td>\n",
       "    </tr>\n",
       "    <tr>\n",
       "      <th>3</th>\n",
       "      <td>Francia</td>\n",
       "      <td>3.806.413</td>\n",
       "      <td>4.067.759</td>\n",
       "      <td>7.874.172</td>\n",
       "      <td>11,82%</td>\n",
       "      <td>0,57</td>\n",
       "    </tr>\n",
       "    <tr>\n",
       "      <th>4</th>\n",
       "      <td>Italia</td>\n",
       "      <td>2.637.798</td>\n",
       "      <td>3.167.530</td>\n",
       "      <td>5.805.328</td>\n",
       "      <td>9,57%</td>\n",
       "      <td>-0,18</td>\n",
       "    </tr>\n",
       "  </tbody>\n",
       "</table>\n",
       "</div>"
      ],
      "text/plain": [
       "        Países Inmigrantes hombres Inmigrantes mujeres Inmigrantes  \\\n",
       "0       España           2.884.000           3.007.208   5.891.208   \n",
       "1     Alemania           5.037.961           5.182.457  10.220.418   \n",
       "2  Reino Unido           4.023.771           4.387.798   8.411.569   \n",
       "3      Francia           3.806.413           4.067.759   7.874.172   \n",
       "4       Italia           2.637.798           3.167.530   5.805.328   \n",
       "\n",
       "  % Inmigrantes   Var.  \n",
       "0        12,69%  -0,77  \n",
       "1        12,44%   0,21  \n",
       "2        12,87%   1,57  \n",
       "3        11,82%   0,57  \n",
       "4         9,57%  -0,18  "
      ]
     },
     "execution_count": 8,
     "metadata": {},
     "output_type": "execute_result"
    }
   ],
   "source": [
    "finalInmig2015.head(5)"
   ]
  }
 ],
 "metadata": {
  "kernelspec": {
   "display_name": "Python 3.8.8 ('base')",
   "language": "python",
   "name": "python3"
  },
  "language_info": {
   "codemirror_mode": {
    "name": "ipython",
    "version": 3
   },
   "file_extension": ".py",
   "mimetype": "text/x-python",
   "name": "python",
   "nbconvert_exporter": "python",
   "pygments_lexer": "ipython3",
   "version": "3.8.8"
  },
  "orig_nbformat": 4,
  "vscode": {
   "interpreter": {
    "hash": "d807e427c289f13c3d5d7618bc19d091167f2c79d78d922b0e1488a79157d73f"
   }
  }
 },
 "nbformat": 4,
 "nbformat_minor": 2
}
