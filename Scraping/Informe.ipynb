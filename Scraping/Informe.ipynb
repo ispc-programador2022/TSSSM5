{
 "cells": [
  {
   "cell_type": "code",
   "execution_count": 1,
   "metadata": {},
   "outputs": [],
   "source": [
    "import pandas as pd\n",
    "import numpy as np\n",
    "\n",
    "import matplotlib.pyplot as plt\n",
    "import seaborn as sns\n",
    "import matplotlib as mpl\n",
    "\n",
    "mpl.style.use('bmh')"
   ]
  },
  {
   "cell_type": "code",
   "execution_count": 36,
   "metadata": {},
   "outputs": [
    {
     "name": "stdout",
     "output_type": "stream",
     "text": [
      "      Unnamed: 0       Países Inmigrantes hombres Inmigrantes mujeres  \\\n",
      "0              0       España             838.058             819.227   \n",
      "1              1     Alemania           4.503.666           4.488.965   \n",
      "2              2  Reino Unido           2.228.628           2.501.537   \n",
      "3              3      Francia           3.092.789           3.185.929   \n",
      "4              4       Italia             976.691           1.144.997   \n",
      "...          ...          ...                 ...                 ...   \n",
      "1163         190        Samoa               2.038               1.997   \n",
      "1164         191        Yemen             202.414             183.214   \n",
      "1165         192    Sudáfrica           2.350.362           1.873.894   \n",
      "1166         193       Zambia              86.098              84.151   \n",
      "1167         194     Zimbabue             233.652             177.605   \n",
      "\n",
      "     Inmigrantes % Inmigrantes   Var.  year  \n",
      "0      1.657.285         4,08%   1,52  2000  \n",
      "1      8.992.631        10,93%   1,81  2000  \n",
      "2      4.730.165         8,02%   0,87  2000  \n",
      "3      6.278.718        10,30%   0,07  2000  \n",
      "4      2.121.688         3,72%   0,60  2000  \n",
      "...          ...           ...    ...   ...  \n",
      "1163       4.035         2,05%  -0,45  2019  \n",
      "1164     385.628         1,22%  -0,14  2019  \n",
      "1165   4.224.256         7,19%   0,12  2019  \n",
      "1166     170.249         0,93%   0,02  2019  \n",
      "1167     411.257         2,81%   0,01  2019  \n",
      "\n",
      "[1168 rows x 8 columns]\n"
     ]
    }
   ],
   "source": [
    "df_complete = pd.read_csv(r'/scraping_proyecto_integrador/TSSSM5/csv_2000_to_2019.csv')\n",
    "print(df_complete)"
   ]
  },
  {
   "cell_type": "markdown",
   "metadata": {},
   "source": [
    "Se realizan distintas operaciones para ver la composición del dataframe"
   ]
  },
  {
   "cell_type": "code",
   "execution_count": 37,
   "metadata": {},
   "outputs": [
    {
     "data": {
      "text/plain": [
       "(1168, 8)"
      ]
     },
     "execution_count": 37,
     "metadata": {},
     "output_type": "execute_result"
    }
   ],
   "source": [
    "df_complete.shape"
   ]
  },
  {
   "cell_type": "code",
   "execution_count": 38,
   "metadata": {},
   "outputs": [
    {
     "data": {
      "text/html": [
       "<div>\n",
       "<style scoped>\n",
       "    .dataframe tbody tr th:only-of-type {\n",
       "        vertical-align: middle;\n",
       "    }\n",
       "\n",
       "    .dataframe tbody tr th {\n",
       "        vertical-align: top;\n",
       "    }\n",
       "\n",
       "    .dataframe thead th {\n",
       "        text-align: right;\n",
       "    }\n",
       "</style>\n",
       "<table border=\"1\" class=\"dataframe\">\n",
       "  <thead>\n",
       "    <tr style=\"text-align: right;\">\n",
       "      <th></th>\n",
       "      <th>Unnamed: 0</th>\n",
       "      <th>Países</th>\n",
       "      <th>Inmigrantes hombres</th>\n",
       "      <th>Inmigrantes mujeres</th>\n",
       "      <th>Inmigrantes</th>\n",
       "      <th>% Inmigrantes</th>\n",
       "      <th>Var.</th>\n",
       "      <th>year</th>\n",
       "    </tr>\n",
       "  </thead>\n",
       "  <tbody>\n",
       "    <tr>\n",
       "      <th>0</th>\n",
       "      <td>0</td>\n",
       "      <td>España</td>\n",
       "      <td>838.058</td>\n",
       "      <td>819.227</td>\n",
       "      <td>1.657.285</td>\n",
       "      <td>4,08%</td>\n",
       "      <td>1,52</td>\n",
       "      <td>2000</td>\n",
       "    </tr>\n",
       "  </tbody>\n",
       "</table>\n",
       "</div>"
      ],
      "text/plain": [
       "   Unnamed: 0  Países Inmigrantes hombres Inmigrantes mujeres Inmigrantes  \\\n",
       "0           0  España             838.058             819.227   1.657.285   \n",
       "\n",
       "  % Inmigrantes  Var.  year  \n",
       "0         4,08%  1,52  2000  "
      ]
     },
     "execution_count": 38,
     "metadata": {},
     "output_type": "execute_result"
    }
   ],
   "source": [
    "df_complete.head(1)"
   ]
  },
  {
   "cell_type": "code",
   "execution_count": 39,
   "metadata": {},
   "outputs": [
    {
     "data": {
      "text/plain": [
       "Index(['Unnamed: 0', 'Países', 'Inmigrantes hombres', 'Inmigrantes mujeres',\n",
       "       'Inmigrantes', '% Inmigrantes', 'Var.', 'year'],\n",
       "      dtype='object')"
      ]
     },
     "execution_count": 39,
     "metadata": {},
     "output_type": "execute_result"
    }
   ],
   "source": [
    "df_complete.columns"
   ]
  },
  {
   "cell_type": "code",
   "execution_count": 40,
   "metadata": {},
   "outputs": [
    {
     "name": "stdout",
     "output_type": "stream",
     "text": [
      "<class 'pandas.core.frame.DataFrame'>\n",
      "RangeIndex: 1168 entries, 0 to 1167\n",
      "Data columns (total 8 columns):\n",
      " #   Column               Non-Null Count  Dtype \n",
      "---  ------               --------------  ----- \n",
      " 0   Unnamed: 0           1168 non-null   int64 \n",
      " 1   Países               1168 non-null   object\n",
      " 2   Inmigrantes hombres  1168 non-null   object\n",
      " 3   Inmigrantes mujeres  1168 non-null   object\n",
      " 4   Inmigrantes          1168 non-null   object\n",
      " 5   % Inmigrantes        1168 non-null   object\n",
      " 6   Var.                 1167 non-null   object\n",
      " 7   year                 1168 non-null   int64 \n",
      "dtypes: int64(2), object(6)\n",
      "memory usage: 73.1+ KB\n"
     ]
    }
   ],
   "source": [
    "df_complete.info()"
   ]
  },
  {
   "cell_type": "code",
   "execution_count": 41,
   "metadata": {},
   "outputs": [],
   "source": [
    "Inmigrants_total = []\n",
    "for h in range(len(df_complete[\"Inmigrantes\"])):\n",
    "    Inmigrants_total.append(int(df_complete[\"Inmigrantes\"][h].replace('.', '')))\n",
    "\n",
    "\n",
    "Inmigrants_m_total = []\n",
    "for h in range(len(df_complete[\"Inmigrantes mujeres\"])):\n",
    "    Inmigrants_m_total.append(int(df_complete[\"Inmigrantes mujeres\"][h].replace('.', '')))\n",
    "\n",
    "Inmigrants_h_total = []\n",
    "for h in range(len(df_complete[\"Inmigrantes hombres\"])):\n",
    "    Inmigrants_h_total.append(int(df_complete[\"Inmigrantes hombres\"][h].replace('.', '')))\n"
   ]
  },
  {
   "cell_type": "code",
   "execution_count": 42,
   "metadata": {},
   "outputs": [],
   "source": [
    "df_complete[\"Inmigrantes_total\"] = Inmigrants_total\n",
    "df_complete[\"Inmigrantes_hombres\"] = Inmigrants_m_total\n",
    "df_complete[\"Inmigrantes_mujeres\"] = Inmigrants_h_total"
   ]
  },
  {
   "cell_type": "code",
   "execution_count": 43,
   "metadata": {},
   "outputs": [],
   "source": [
    "df_complete = df_complete.drop(['Inmigrantes hombres','Inmigrantes mujeres', 'Inmigrantes'], axis=1)"
   ]
  },
  {
   "cell_type": "code",
   "execution_count": 44,
   "metadata": {},
   "outputs": [
    {
     "data": {
      "text/html": [
       "<div>\n",
       "<style scoped>\n",
       "    .dataframe tbody tr th:only-of-type {\n",
       "        vertical-align: middle;\n",
       "    }\n",
       "\n",
       "    .dataframe tbody tr th {\n",
       "        vertical-align: top;\n",
       "    }\n",
       "\n",
       "    .dataframe thead th {\n",
       "        text-align: right;\n",
       "    }\n",
       "</style>\n",
       "<table border=\"1\" class=\"dataframe\">\n",
       "  <thead>\n",
       "    <tr style=\"text-align: right;\">\n",
       "      <th></th>\n",
       "      <th>Unnamed: 0</th>\n",
       "      <th>Países</th>\n",
       "      <th>% Inmigrantes</th>\n",
       "      <th>Var.</th>\n",
       "      <th>year</th>\n",
       "      <th>Inmigrantes_total</th>\n",
       "      <th>Inmigrantes_hombres</th>\n",
       "      <th>Inmigrantes_mujeres</th>\n",
       "    </tr>\n",
       "  </thead>\n",
       "  <tbody>\n",
       "    <tr>\n",
       "      <th>0</th>\n",
       "      <td>0</td>\n",
       "      <td>España</td>\n",
       "      <td>4,08%</td>\n",
       "      <td>1,52</td>\n",
       "      <td>2000</td>\n",
       "      <td>1657285</td>\n",
       "      <td>819227</td>\n",
       "      <td>838058</td>\n",
       "    </tr>\n",
       "  </tbody>\n",
       "</table>\n",
       "</div>"
      ],
      "text/plain": [
       "   Unnamed: 0  Países % Inmigrantes  Var.  year  Inmigrantes_total  \\\n",
       "0           0  España         4,08%  1,52  2000            1657285   \n",
       "\n",
       "   Inmigrantes_hombres  Inmigrantes_mujeres  \n",
       "0               819227               838058  "
      ]
     },
     "execution_count": 44,
     "metadata": {},
     "output_type": "execute_result"
    }
   ],
   "source": [
    "df_complete.head(1)"
   ]
  },
  {
   "cell_type": "code",
   "execution_count": 48,
   "metadata": {},
   "outputs": [
    {
     "data": {
      "text/html": [
       "<div>\n",
       "<style scoped>\n",
       "    .dataframe tbody tr th:only-of-type {\n",
       "        vertical-align: middle;\n",
       "    }\n",
       "\n",
       "    .dataframe tbody tr th {\n",
       "        vertical-align: top;\n",
       "    }\n",
       "\n",
       "    .dataframe thead th {\n",
       "        text-align: right;\n",
       "    }\n",
       "</style>\n",
       "<table border=\"1\" class=\"dataframe\">\n",
       "  <thead>\n",
       "    <tr style=\"text-align: right;\">\n",
       "      <th></th>\n",
       "      <th>Unnamed: 0</th>\n",
       "      <th>Países</th>\n",
       "      <th>% Inmigrantes</th>\n",
       "      <th>Var.</th>\n",
       "      <th>year</th>\n",
       "      <th>Inmigrantes_total</th>\n",
       "      <th>Inmigrantes_hombres</th>\n",
       "      <th>Inmigrantes_mujeres</th>\n",
       "    </tr>\n",
       "  </thead>\n",
       "  <tbody>\n",
       "    <tr>\n",
       "      <th>973</th>\n",
       "      <td>0</td>\n",
       "      <td>España</td>\n",
       "      <td>12,90%</td>\n",
       "      <td>0,15</td>\n",
       "      <td>2019</td>\n",
       "      <td>6104203</td>\n",
       "      <td>3190456</td>\n",
       "      <td>2913747</td>\n",
       "    </tr>\n",
       "  </tbody>\n",
       "</table>\n",
       "</div>"
      ],
      "text/plain": [
       "     Unnamed: 0  Países % Inmigrantes  Var.  year  Inmigrantes_total  \\\n",
       "973           0  España        12,90%  0,15  2019            6104203   \n",
       "\n",
       "     Inmigrantes_hombres  Inmigrantes_mujeres  \n",
       "973              3190456              2913747  "
      ]
     },
     "execution_count": 48,
     "metadata": {},
     "output_type": "execute_result"
    }
   ],
   "source": [
    "df_2019 = df_complete[df_complete['year'] == 2019]\n",
    "df_2019.head(1)"
   ]
  },
  {
   "cell_type": "code",
   "execution_count": 61,
   "metadata": {},
   "outputs": [
    {
     "data": {
      "text/plain": [
       "Text(0.5, 0, 'Paises')"
      ]
     },
     "execution_count": 61,
     "metadata": {},
     "output_type": "execute_result"
    },
    {
     "data": {
      "image/png": "[encoded data removed]",
      "text/plain": [
       "<Figure size 1152x432 with 1 Axes>"
      ]
     },
     "metadata": {
      "needs_background": "light"
     },
     "output_type": "display_data"
    }
   ],
   "source": [
    "df_2019 = df_2019.sort_values(by=['Inmigrantes_total'], ascending=False)\n",
    "top_10_df_2019 = df_2019.head(10)\n",
    "\n",
    "fig, ax = plt.subplots(figsize=(16,6))\n",
    "ax.barh(top_10_df_2019['Países'], top_10_df_2019['Inmigrantes_total'])\n",
    "ax.set_title('Top 10 total de Inmigraciones por país')\n",
    "ax.set_ylabel('Países')\n",
    "ax.set_xlabel('Total en millones')"
   ]
  }
 ],
 "metadata": {
  "kernelspec": {
   "display_name": "Python 3.10.8 64-bit (microsoft store)",
   "language": "python",
   "name": "python3"
  },
  "language_info": {
   "codemirror_mode": {
    "name": "ipython",
    "version": 3
   },
   "file_extension": ".py",
   "mimetype": "text/x-python",
   "name": "python",
   "nbconvert_exporter": "python",
   "pygments_lexer": "ipython3",
   "version": "3.10.8"
  },
  "orig_nbformat": 4,
  "vscode": {
   "interpreter": {
    "hash": "9282e8dcd7771560fa833cba90d3d44e24d4d42a24c6b720993a58382a7670e2"
   }
  }
 },
 "nbformat": 4,
 "nbformat_minor": 2
}
